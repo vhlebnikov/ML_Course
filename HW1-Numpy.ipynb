{
  "cells": [
    {
      "cell_type": "code",
      "execution_count": 1,
      "id": "6b6c8611",
      "metadata": {
        "id": "6b6c8611"
      },
      "outputs": [],
      "source": [
        "import numpy as np"
      ]
    },
    {
      "cell_type": "markdown",
      "id": "37150124",
      "metadata": {
        "id": "37150124"
      },
      "source": [
        "**Внимание** Во всех заданиях данной работы **запрещено** обращаться к массивам поэлементно и использовать циклы языка Python"
      ]
    },
    {
      "cell_type": "markdown",
      "id": "1064f725",
      "metadata": {
        "id": "1064f725"
      },
      "source": [
        "**Задание 1.** Напишите функцию, принимающую два массива произвольных размерностей и возвращающую True тогда и только тогда, когда эти два массива поэлементно равны"
      ]
    },
    {
      "cell_type": "code",
      "execution_count": 25,
      "id": "95446adb",
      "metadata": {
        "id": "95446adb",
        "outputId": "2c928e9f-5d6f-490e-de3d-ecf816d7d9aa",
        "colab": {
          "base_uri": "https://localhost:8080/"
        }
      },
      "outputs": [
        {
          "output_type": "stream",
          "name": "stdout",
          "text": [
            "True\n",
            "False\n",
            "False\n"
          ]
        }
      ],
      "source": [
        "def task1(x, y):\n",
        "    if (x.shape != y.shape):\n",
        "      return False\n",
        "    return all((x == y).reshape(sum(x.shape)))\n",
        "\n",
        "\n",
        "a, b = np.arange(4).reshape(2,2), np.arange(4).reshape(2,2)\n",
        "c, d = np.arange(4).reshape(2,2), np.arange(2, 6).reshape(2,2)\n",
        "e, f = np.arange(4).reshape(2,2), np.arange(2, 6)\n",
        "print(task1(a, b))\n",
        "print(task1(c, d))\n",
        "print(task1(e, f))"
      ]
    },
    {
      "cell_type": "markdown",
      "id": "118e761c",
      "metadata": {
        "id": "118e761c"
      },
      "source": [
        "**Задание 2.** Напишите функцию, которая принимает на вход двумерный массив (это условие можно не проверять), и возврщает массис, в котором каждый элемент исходного массива поделен на сумму модулей элементов его строки.\n",
        "\n",
        "Например,\n",
        "для массива\n",
        "$$\n",
        "\\left(\\begin{array}{cc}\n",
        "    1 & - 1 \\\\\n",
        "    2 & 4\n",
        "\\end{array}\\right)\n",
        "$$ должен быть возвращен массив\n",
        "$$\n",
        "\\left(\\begin{array}{cc}\n",
        "    \\frac{1}{2} & -\\frac{1}{2} \\\\\n",
        "    \\frac{1}{3} & -\\frac{2}{3}\n",
        "\\end{array}\\right)\n",
        "$$"
      ]
    },
    {
      "cell_type": "code",
      "execution_count": null,
      "id": "3693e325",
      "metadata": {
        "id": "3693e325"
      },
      "outputs": [],
      "source": [
        "def task2(x):\n",
        "    # YOUR CODE GOES HERE\n",
        "    pass"
      ]
    },
    {
      "cell_type": "markdown",
      "id": "fb3a12bf",
      "metadata": {
        "id": "fb3a12bf"
      },
      "source": [
        "**Задание 3** Напишите функцию, которая принимает на вход одномреный массив и возвращает матрицу Вандермонда для элемментов этого массива.\n",
        "Напомним, что матрицей Вандермонда для элементов $(x_1, x_2, \\ldots, x_n)$ называется квадратная матрица порядка $n$, имеющая следующий вид\n",
        "$$\n",
        "\\left(\\begin{array}{ccccc}\n",
        "1 & x_1 & x_1^2 & \\ldots  & x_1^{n - 1} \\\\\n",
        "1 & x_2 & x_2^2 & \\ldots  & x_2^{n - 1} \\\\\n",
        "1 & x_3 & x_3^2 & \\ldots  & x_3^{n - 1} \\\\\n",
        "& & \\ldots & & \\\\\n",
        "1 & x_n & x_n^2 & \\ldots  & x_n^{n - 1} \\\\\n",
        "\\end{array}\n",
        "\\right)\n",
        "$$\n",
        "\n",
        "*Важно*: в этом задании запрещено использовать встроенную функцию `np.vander`. И код из нее тоже не надо копировать и даже творчески переписывать не стоит, для решения достаточно функций, показанных на семинаре"
      ]
    },
    {
      "cell_type": "code",
      "execution_count": null,
      "id": "7ef11eab",
      "metadata": {
        "id": "7ef11eab"
      },
      "outputs": [],
      "source": [
        "def task3(elements):\n",
        "    # YOUR CODE GOES HERE\n",
        "    pass"
      ]
    },
    {
      "cell_type": "markdown",
      "id": "f2f9fbb1",
      "metadata": {
        "id": "f2f9fbb1"
      },
      "source": [
        "**Задание 4.** Напишите функцию, которая принимает на вход массив и возвращает новый массив, который получен из аргмента заменой всех отрицательных элементов на среднее значение всех положительных элементов исходного массива"
      ]
    },
    {
      "cell_type": "code",
      "execution_count": null,
      "id": "18bb21fd",
      "metadata": {
        "id": "18bb21fd"
      },
      "outputs": [],
      "source": [
        "def task4(ar):\n",
        "    # YOUR CODE GOES HERE\n",
        "    pass"
      ]
    },
    {
      "cell_type": "code",
      "execution_count": null,
      "id": "6cd32b3d",
      "metadata": {
        "id": "6cd32b3d"
      },
      "outputs": [],
      "source": []
    }
  ],
  "metadata": {
    "kernelspec": {
      "display_name": "Python 3 (ipykernel)",
      "language": "python",
      "name": "python3"
    },
    "language_info": {
      "codemirror_mode": {
        "name": "ipython",
        "version": 3
      },
      "file_extension": ".py",
      "mimetype": "text/x-python",
      "name": "python",
      "nbconvert_exporter": "python",
      "pygments_lexer": "ipython3",
      "version": "3.10.12"
    },
    "colab": {
      "provenance": []
    }
  },
  "nbformat": 4,
  "nbformat_minor": 5
}