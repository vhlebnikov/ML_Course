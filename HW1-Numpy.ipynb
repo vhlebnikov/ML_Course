{
  "cells": [
    {
      "cell_type": "code",
      "execution_count": null,
      "id": "6b6c8611",
      "metadata": {
        "id": "6b6c8611"
      },
      "outputs": [],
      "source": [
        "import numpy as np"
      ]
    },
    {
      "cell_type": "markdown",
      "id": "37150124",
      "metadata": {
        "id": "37150124"
      },
      "source": [
        "**Внимание** Во всех заданиях данной работы **запрещено** обращаться к массивам поэлементно и использовать циклы языка Python"
      ]
    },
    {
      "cell_type": "markdown",
      "id": "1064f725",
      "metadata": {
        "id": "1064f725"
      },
      "source": [
        "**Задание 1.** Напишите функцию, принимающую два массива произвольных размерностей и возвращающую True тогда и только тогда, когда эти два массива поэлементно равны"
      ]
    },
    {
      "cell_type": "code",
      "execution_count": null,
      "id": "95446adb",
      "metadata": {
        "colab": {
          "base_uri": "https://localhost:8080/"
        },
        "id": "95446adb",
        "outputId": "2c928e9f-5d6f-490e-de3d-ecf816d7d9aa"
      },
      "outputs": [
        {
          "output_type": "stream",
          "name": "stdout",
          "text": [
            "True\n",
            "False\n",
            "False\n"
          ]
        }
      ],
      "source": [
        "def task1(x, y):\n",
        "    if (x.shape != y.shape):\n",
        "      return False\n",
        "    return all((x == y).reshape(sum(x.shape)))\n",
        "\n",
        "\n",
        "a, b = np.arange(4).reshape(2,2), np.arange(4).reshape(2,2)\n",
        "c, d = np.arange(4).reshape(2,2), np.arange(2, 6).reshape(2,2)\n",
        "e, f = np.arange(4).reshape(2,2), np.arange(2, 6)\n",
        "print(task1(a, b))\n",
        "print(task1(c, d))\n",
        "print(task1(e, f))"
      ]
    },
    {
      "cell_type": "markdown",
      "id": "118e761c",
      "metadata": {
        "id": "118e761c"
      },
      "source": [
        "**Задание 2.** Напишите функцию, которая принимает на вход двумерный массив (это условие можно не проверять), и возвращает массив, в котором каждый элемент исходного массива поделен на сумму модулей элементов его строки.\n",
        "\n",
        "Например,\n",
        "для массива\n",
        "$$\n",
        "\\left(\\begin{array}{cc}\n",
        "    1 & - 1 \\\\\n",
        "    2 & 4\n",
        "\\end{array}\\right)\n",
        "$$ должен быть возвращен массив\n",
        "$$\n",
        "\\left(\\begin{array}{cc}\n",
        "    \\frac{1}{2} & -\\frac{1}{2} \\\\\n",
        "    \\frac{1}{3} & -\\frac{2}{3}\n",
        "\\end{array}\\right)\n",
        "$$"
      ]
    },
    {
      "cell_type": "code",
      "execution_count": 153,
      "id": "3693e325",
      "metadata": {
        "colab": {
          "base_uri": "https://localhost:8080/"
        },
        "id": "3693e325",
        "outputId": "0660f6b0-7cb4-4c8b-b667-7cfa94f94190"
      },
      "outputs": [
        {
          "output_type": "stream",
          "name": "stdout",
          "text": [
            "[[-6  2]\n",
            " [-8 -4]]\n",
            "[[-0.75        0.25      ]\n",
            " [-0.66666667 -0.33333333]]\n"
          ]
        }
      ],
      "source": [
        "def task2(x):\n",
        "    mod = np.sum(abs(x), axis=1)\n",
        "    if (any(mod==0)):\n",
        "      raise Exception(\"Division by zero problem\")\n",
        "    return x / mod.reshape(len(x), 1)\n",
        "\n",
        "\n",
        "a = np.random.randint(-10, 10, size=(2,2))\n",
        "print(a)\n",
        "print(task2(a))"
      ]
    },
    {
      "cell_type": "markdown",
      "id": "fb3a12bf",
      "metadata": {
        "id": "fb3a12bf"
      },
      "source": [
        "**Задание 3** Напишите функцию, которая принимает на вход одномереный массив и возвращает матрицу Вандермонда для элемментов этого массива.\n",
        "Напомним, что матрицей Вандермонда для элементов $(x_1, x_2, \\ldots, x_n)$ называется квадратная матрица порядка $n$, имеющая следующий вид\n",
        "$$\n",
        "\\left(\\begin{array}{ccccc}\n",
        "1 & x_1 & x_1^2 & \\ldots  & x_1^{n - 1} \\\\\n",
        "1 & x_2 & x_2^2 & \\ldots  & x_2^{n - 1} \\\\\n",
        "1 & x_3 & x_3^2 & \\ldots  & x_3^{n - 1} \\\\\n",
        "& & \\ldots & & \\\\\n",
        "1 & x_n & x_n^2 & \\ldots  & x_n^{n - 1} \\\\\n",
        "\\end{array}\n",
        "\\right)\n",
        "$$\n",
        "\n",
        "*Важно*: в этом задании запрещено использовать встроенную функцию `np.vander`. И код из нее тоже не надо копировать и даже творчески переписывать не стоит, для решения достаточно функций, показанных на семинаре"
      ]
    },
    {
      "cell_type": "code",
      "execution_count": 116,
      "id": "7ef11eab",
      "metadata": {
        "colab": {
          "base_uri": "https://localhost:8080/"
        },
        "id": "7ef11eab",
        "outputId": "b2acb931-e3d2-4cdc-f28b-cacffc4b6665"
      },
      "outputs": [
        {
          "output_type": "stream",
          "name": "stdout",
          "text": [
            "[-8 -4 -7 -9 -7]\n",
            "[[   1   -8   64 -512 4096]\n",
            " [   1   -4   16  -64  256]\n",
            " [   1   -7   49 -343 2401]\n",
            " [   1   -9   81 -729 6561]\n",
            " [   1   -7   49 -343 2401]]\n"
          ]
        }
      ],
      "source": [
        "def task3(elements):\n",
        "    dim = len(elements)\n",
        "    powers = np.arange(0, dim)\n",
        "    arr = elements.reshape(dim, 1) * np.repeat(1, dim)\n",
        "    return arr**powers\n",
        "\n",
        "a = np.random.randint(-9, 9, size=(np.random.randint(3, 10)))\n",
        "print(a)\n",
        "print(task3(a))"
      ]
    },
    {
      "cell_type": "markdown",
      "id": "f2f9fbb1",
      "metadata": {
        "id": "f2f9fbb1"
      },
      "source": [
        "**Задание 4.** Напишите функцию, которая принимает на вход массив и возвращает новый массив, который получен из аргумента заменой всех отрицательных элементов на среднее значение всех положительных элементов исходного массива"
      ]
    },
    {
      "cell_type": "code",
      "execution_count": 154,
      "id": "18bb21fd",
      "metadata": {
        "colab": {
          "base_uri": "https://localhost:8080/"
        },
        "id": "18bb21fd",
        "outputId": "0ae6824f-497a-4429-b55c-3205ded524c2"
      },
      "outputs": [
        {
          "output_type": "stream",
          "name": "stdout",
          "text": [
            "[ -6.   1. -10.  -9.   4.]\n",
            "[2.5 1.  2.5 2.5 4. ]\n"
          ]
        }
      ],
      "source": [
        "from logging import exception\n",
        "def task4(ar):\n",
        "    positive = ar >= 0\n",
        "    if (not len(ar[ar >= 0])):\n",
        "      raise Exception(\"Can't calculate mean, because there're no positive numbers\")\n",
        "    mean = sum(ar[ar >= 0]) / len(ar[ar >= 0])\n",
        "    ar[ar<0] = mean\n",
        "    return ar\n",
        "\n",
        "a = np.random.randint(-10, 10, size=(np.random.randint(5, 6)))\n",
        "a = a.astype(float)\n",
        "print(a)\n",
        "print(task4(a))"
      ]
    },
    {
      "cell_type": "code",
      "execution_count": null,
      "id": "6cd32b3d",
      "metadata": {
        "id": "6cd32b3d"
      },
      "outputs": [],
      "source": []
    }
  ],
  "metadata": {
    "kernelspec": {
      "display_name": "Python 3 (ipykernel)",
      "language": "python",
      "name": "python3"
    },
    "language_info": {
      "codemirror_mode": {
        "name": "ipython",
        "version": 3
      },
      "file_extension": ".py",
      "mimetype": "text/x-python",
      "name": "python",
      "nbconvert_exporter": "python",
      "pygments_lexer": "ipython3",
      "version": "3.10.12"
    },
    "colab": {
      "provenance": []
    }
  },
  "nbformat": 4,
  "nbformat_minor": 5
}